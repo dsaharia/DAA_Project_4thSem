{
 "cells": [
  {
   "cell_type": "markdown",
   "metadata": {},
   "source": [
    "## Design and analysis of Algorithms project\n",
    "\n",
    "#### **Topic** - Implementing own encryption and decryption algorithm using some basic ciphers. "
   ]
  },
  {
   "cell_type": "markdown",
   "metadata": {},
   "source": [
    "## Encryption Process"
   ]
  },
  {
   "cell_type": "code",
   "execution_count": 143,
   "metadata": {
    "scrolled": false
   },
   "outputs": [
    {
     "name": "stdout",
     "output_type": "stream",
     "text": [
      "Enter a String to encrypt: CAT\n"
     ]
    }
   ],
   "source": [
    "input_string = input('Enter a String to encrypt: ')"
   ]
  },
  {
   "cell_type": "code",
   "execution_count": 144,
   "metadata": {},
   "outputs": [],
   "source": [
    "# GLOBAL Variables\n",
    "transmitted_data = []\n",
    "received_data = []\n",
    "xor_key = [1, 0, 1, 1, 0, 0, 1, 1]\n",
    "decrypted_data = []\n",
    "rotation_value = 1 # Caesar cipher rotation value"
   ]
  },
  {
   "cell_type": "code",
   "execution_count": 145,
   "metadata": {},
   "outputs": [
    {
     "name": "stdout",
     "output_type": "stream",
     "text": [
      "Character --- Binary\n",
      "U          -> 01010101\n",
      "B          -> 01000010\n",
      "D          -> 01000100\n",
      "10001000100001001010101\n",
      "----Message in One's complemented form----\n",
      "1 0 1 1 1 0 1 1 1 0 1 1 1 1 0 1 1 0 1 0 1 0 1 0 "
     ]
    }
   ],
   "source": [
    "def ascii_to_binary(character):\n",
    "    \"\"\"\n",
    "    This function takes each character of the message and\n",
    "    returns its binary equivalent.\n",
    "    \"\"\"\n",
    "    n = ord(character) + rotation_value\n",
    "    i = 0\n",
    "    sum = 0\n",
    "    while n > 0:\n",
    "        x = n % 2\n",
    "        n = n // 2\n",
    "        sum = sum + x * pow(10, i)\n",
    "        i += 1\n",
    "    print('{:10s} -> {:08d}'.format(chr(ord(character)+1),sum))\n",
    "    return sum\n",
    "    \n",
    "j = 0\n",
    "complete_bin_message = 0\n",
    "print('Character --- Binary')\n",
    "for i in range(len(input_string)-1,-1,-1):\n",
    "    bin_message = ascii_to_binary(input_string[i])\n",
    "    # For converting separate binary string into complete binary sequence\n",
    "    complete_bin_message = complete_bin_message + bin_message * pow(10, j)\n",
    "    j += 8 # for skipping 7 bits, then adding next 7 seven bits\n",
    "print(complete_bin_message)\n",
    "\n",
    "list_message = list(str(complete_bin_message))\n",
    "list_message.insert(0, '0') # Since the beginning 0 bit was getting truncated manually added 0\n",
    "# print(\"LIST{}\".format(list_message))\n",
    "def ones_complement(list_message):\n",
    "    \"\"\"\n",
    "    Takes the message in list form and converts it to one's complement form.\n",
    "    \"\"\"\n",
    "    for index in range(len(list_message)):\n",
    "        if list_message[index] == '1':\n",
    "            list_message[index] = '0'\n",
    "        else:\n",
    "            list_message[index] = '1'\n",
    "    print(\"----Message in One's complemented form----\")\n",
    "    for bit in list_message:\n",
    "        print(bit, end=' ')\n",
    "ones_complement(list_message)"
   ]
  },
  {
   "cell_type": "code",
   "execution_count": 146,
   "metadata": {},
   "outputs": [
    {
     "name": "stdout",
     "output_type": "stream",
     "text": [
      "---- After XOR operation ----\n",
      "Transmitted data: [0, 0, 0, 0, 1, 0, 0, 0, 0, 0, 0, 0, 1, 1, 1, 0, 0, 0, 0, 1, 1, 0, 0, 1]\n"
     ]
    }
   ],
   "source": [
    "\n",
    "def xor_operation(list_message):\n",
    "    i = 0\n",
    "    print(\"---- After XOR operation ----\")\n",
    "    for bit in list_message:\n",
    "        transmitted_data.append(int(bit) ^ xor_key[i])\n",
    "        i += 1\n",
    "        if i == 8:\n",
    "            i = 0\n",
    "#     print(transmitted_data)\n",
    "xor_operation(list_message)\n",
    "received_data = transmitted_data.copy()\n",
    "print(\"Transmitted data: {}\".format(received_data))"
   ]
  },
  {
   "cell_type": "markdown",
   "metadata": {},
   "source": [
    "## Decryption Process\n",
    "` Receiver Side `"
   ]
  },
  {
   "cell_type": "code",
   "execution_count": 147,
   "metadata": {
    "scrolled": true
   },
   "outputs": [
    {
     "name": "stdout",
     "output_type": "stream",
     "text": [
      "Received Message: [0, 0, 0, 0, 1, 0, 0, 0, 0, 0, 0, 0, 1, 1, 1, 0, 0, 0, 0, 1, 1, 0, 0, 1] \n",
      "XOR key given: [1, 0, 1, 1, 0, 0, 1, 1]\n"
     ]
    }
   ],
   "source": [
    "print(\"Received Message: {} \\nXOR key given: {}\".format(received_data, xor_key))"
   ]
  },
  {
   "cell_type": "code",
   "execution_count": 148,
   "metadata": {},
   "outputs": [
    {
     "name": "stdout",
     "output_type": "stream",
     "text": [
      "[0, 0, 0, 0, 1, 0, 0, 0, 0, 0, 0, 0, 1, 1, 1, 0, 0, 0, 0, 1, 1, 0, 0, 1]\n"
     ]
    }
   ],
   "source": [
    "print(received_data)"
   ]
  },
  {
   "cell_type": "code",
   "execution_count": 149,
   "metadata": {},
   "outputs": [],
   "source": [
    "def decrypt_data():\n",
    "    i = 0\n",
    "    print(\"---- After XOR operation ----\")\n",
    "    for bit in received_data:\n",
    "        decrypted_data.append(int(bit) ^ xor_key[i])\n",
    "        i += 1\n",
    "        if i == 8:\n",
    "            i = 0\n",
    "    print(decrypted_data)\n",
    "    \n",
    "    for index in range(len(decrypted_data)):\n",
    "        if decrypted_data[index] == 1:\n",
    "            decrypted_data[index] = '0'\n",
    "        else:\n",
    "            decrypted_data[index] = '1'\n",
    "    print(\"---After One's Complement---\")\n",
    "    print(decrypted_data)\n",
    "    \n",
    "    sliced_data = []\n",
    "    i = 0\n",
    "    for index in range(0, len(decrypted_data), 8):\n",
    "        sliced_data.append(decrypted_data[index: index+8])\n",
    "        i+=1\n",
    "    print(\"Sliced data into 8 bits: {}\".format(sliced_data))\n",
    "    decrypted_ascii_code = decrypt_bin_to_dec(sliced_data)\n",
    "    decrypted_ascii = []\n",
    "    for ascii_character in decrypted_ascii_code:\n",
    "        decrypted_ascii.append(ascii_character - rotation_value)\n",
    "    print(\"ASCII Codes of unrotated data: {}\".format(decrypted_ascii))\n",
    "    print(\"---The Decrypted Message is---\")\n",
    "    for character_index in range(len(decrypted_ascii)):\n",
    "        print(\"{}\".format(chr(decrypted_ascii[character_index])))"
   ]
  },
  {
   "cell_type": "code",
   "execution_count": 150,
   "metadata": {},
   "outputs": [
    {
     "name": "stdout",
     "output_type": "stream",
     "text": [
      "---- After XOR operation ----\n",
      "[1, 0, 1, 1, 1, 0, 1, 1, 1, 0, 1, 1, 1, 1, 0, 1, 1, 0, 1, 0, 1, 0, 1, 0]\n",
      "---After One's Complement---\n",
      "['0', '1', '0', '0', '0', '1', '0', '0', '0', '1', '0', '0', '0', '0', '1', '0', '0', '1', '0', '1', '0', '1', '0', '1']\n",
      "Sliced data into 8 bits: [['0', '1', '0', '0', '0', '1', '0', '0'], ['0', '1', '0', '0', '0', '0', '1', '0'], ['0', '1', '0', '1', '0', '1', '0', '1']]\n",
      "ASCII Codes of rotated data: [68, 66, 85]\n",
      "ASCII Codes of unrotated data: [67, 65, 84]\n",
      "---The Decrypted Message is---\n",
      "C\n",
      "A\n",
      "T\n"
     ]
    }
   ],
   "source": [
    "decrypt_data()"
   ]
  },
  {
   "cell_type": "code",
   "execution_count": 151,
   "metadata": {},
   "outputs": [],
   "source": [
    "def decrypt_bin_to_dec(sliced_data):\n",
    "    decrypted_ascii_code = []\n",
    "    for list_index in range(len(sliced_data)):\n",
    "        total = 0\n",
    "        base_power = 0\n",
    "        for bit_index in range(7,-1,-1):\n",
    "            total += int(sliced_data[list_index][bit_index]) * pow(2, base_power)\n",
    "            base_power += 1\n",
    "        decrypted_ascii_code.append(total)\n",
    "    print(\"ASCII Codes of rotated data: {}\".format(decrypted_ascii_code))\n",
    "    return decrypted_ascii_code"
   ]
  },
  {
   "cell_type": "code",
   "execution_count": null,
   "metadata": {},
   "outputs": [],
   "source": []
  }
 ],
 "metadata": {
  "kernelspec": {
   "display_name": "Python 3",
   "language": "python",
   "name": "python3"
  },
  "language_info": {
   "codemirror_mode": {
    "name": "ipython",
    "version": 3
   },
   "file_extension": ".py",
   "mimetype": "text/x-python",
   "name": "python",
   "nbconvert_exporter": "python",
   "pygments_lexer": "ipython3",
   "version": "3.7.1"
  }
 },
 "nbformat": 4,
 "nbformat_minor": 2
}
